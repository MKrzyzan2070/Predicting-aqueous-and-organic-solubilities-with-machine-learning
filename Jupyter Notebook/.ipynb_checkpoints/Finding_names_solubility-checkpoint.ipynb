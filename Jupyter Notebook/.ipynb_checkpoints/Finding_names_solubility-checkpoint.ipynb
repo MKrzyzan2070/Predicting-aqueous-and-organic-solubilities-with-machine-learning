{
 "cells": [
  {
   "cell_type": "markdown",
   "id": "223351dd-01c0-43b0-a59c-454b1142991a",
   "metadata": {},
   "source": [
    "This script looks up the names of the solvents from the InChIKey. Internet connection is necessary for this step"
   ]
  },
  {
   "cell_type": "code",
   "execution_count": null,
   "id": "edf3268e-552b-41df-a7ec-a7990b6bffc4",
   "metadata": {},
   "outputs": [],
   "source": [
    "import pandas as pd\n",
    "import pubchempy as pcp\n",
    "\n",
    "solubility_df = pd.read_csv(\"GC_MACCS_BigSolDB.csv\")\n",
    "\n",
    "def fun_to_apply(row):\n",
    "    inchikey = row[\"solvent_InChIKey\"]\n",
    "    compound = pcp.get_compounds(inchikey, 'inchikey')\n",
    "    name = compound[0].iupac_name\n",
    "    return name\n",
    "\n",
    "solubility_df[\"Solvent_name\"] = solubility_df.apply(fun_to_apply, axis=1)\n",
    "names_df = pd.Series(solubility_df[\"Solvent_name\"])\n",
    "solubility_df.to_csv(\"Solvent_names.csv\", index=False)"
   ]
  },
  {
   "cell_type": "code",
   "execution_count": null,
   "id": "dbfb9825-ae45-4612-bb23-6f2325646ec3",
   "metadata": {},
   "outputs": [],
   "source": []
  }
 ],
 "metadata": {
  "kernelspec": {
   "display_name": "Python 3 (ipykernel)",
   "language": "python",
   "name": "python3"
  },
  "language_info": {
   "codemirror_mode": {
    "name": "ipython",
    "version": 3
   },
   "file_extension": ".py",
   "mimetype": "text/x-python",
   "name": "python",
   "nbconvert_exporter": "python",
   "pygments_lexer": "ipython3",
   "version": "3.10.14"
  }
 },
 "nbformat": 4,
 "nbformat_minor": 5
}
